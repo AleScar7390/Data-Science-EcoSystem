{
 "cells": [
  {
   "cell_type": "code",
   "execution_count": null,
   "id": "618e5928-d907-4aef-aafc-366ae0c31766",
   "metadata": {},
   "outputs": [],
   "source": [
    "# Data Science Tools and Ecosystem\n"
   ]
  },
  {
   "cell_type": "code",
   "execution_count": null,
   "id": "3043fc16-d902-4996-815b-94d6beda0307",
   "metadata": {},
   "outputs": [],
   "source": [
    "# In this notebook, Data Science Tools and Ecosystem are summarized.\n",
    "\n",
    "- Some of the popular languages that Data Scientists use\n",
    "- Some of the commonly used libraries used by Data Scientists\n",
    "- Data Science Tools\n",
    "- Examples of evaluation of arithmetic expressions in Python\n",
    "- An example of conversion from minutes to hours\n"
   ]
  },
  {
   "cell_type": "code",
   "execution_count": null,
   "id": "2280dbc1-4559-4397-b176-195a90aca07e",
   "metadata": {},
   "outputs": [],
   "source": [
    "# Some of the popular languages that Data Scientists use are:\n",
    "\n",
    "1. Python\n",
    "2. R\n",
    "3. SQL\n",
    "4. Matlab\n",
    "5. Julia"
   ]
  },
  {
   "cell_type": "code",
   "execution_count": null,
   "id": "98ca0027-d719-4c43-bc36-5959c0f53f42",
   "metadata": {},
   "outputs": [],
   "source": [
    "#Some of the commonly used libraries used by Data Scientists include:\n",
    "\n",
    "1. Pandas\n",
    "2. Matplotlib\n",
    "3. Numpy\n",
    "4. PyTorch"
   ]
  },
  {
   "cell_type": "code",
   "execution_count": null,
   "id": "2ddac572-9074-4490-8f9f-cae268fd003b",
   "metadata": {},
   "outputs": [],
   "source": [
    "## Data Science Tools\n",
    "\n",
    "| Data Science Tools  |\n",
    "|                     |\n",
    "| Jupyter Notebooks   |\n",
    "| RStudio             |\n",
    "| MySQL               |\n"
   ]
  },
  {
   "cell_type": "code",
   "execution_count": 2,
   "id": "74575c7d-8f8a-4fdc-b7f8-af85ae15fc38",
   "metadata": {
    "tags": []
   },
   "outputs": [
    {
     "name": "stdout",
     "output_type": "stream",
     "text": [
      "17\n"
     ]
    }
   ],
   "source": [
    
    "\n",
    "# This is a simple arithmetic expression to multiply then add integers.\n",
    "X = (3 * 4) + 5\n",
    "\n",
    "\n",
    "print(X)\n",
    "\n"
   ]
  },
  {
   "cell_type": "code",
   "execution_count": 6,
   "id": "392f52c4-1c01-498d-9b67-c68612df79ba",
   "metadata": {
    "tags": []
   },
   "outputs": [
    {
     "name": "stdout",
     "output_type": "stream",
     "text": [
      "3.3\n"
     ]
    }
   ],
   "source": [
    "#This will convert 200 minutes to hours by diving by 60.\n",
    "\n",
    "minutes = 200\n",
    "hours = 60\n",
    "result= round (minutes/hours, 1)\n",
    "\n",
    "print(result)"
   ]
  },
  {
   "cell_type": "code",
   "execution_count": null,
   "id": "f64fbbb8-c8d7-427c-9b27-5d9d3b0a2d8b",
   "metadata": {},
   "outputs": [],
   "source": [
    "# Author\n",
    "\n",
    "Alessandro\n"
   ]
  }
 ],
 "metadata": {
  "kernelspec": {
   "display_name": "Python",
   "language": "python",
   "name": "conda-env-python-py"
  },
  "language_info": {
   "codemirror_mode": {
    "name": "ipython",
    "version": 3
   },
   "file_extension": ".py",
   "mimetype": "text/x-python",
   "name": "python",
   "nbconvert_exporter": "python",
   "pygments_lexer": "ipython3",
   "version": "3.7.12"
  }
 },
 "nbformat": 4,
 "nbformat_minor": 5
}
